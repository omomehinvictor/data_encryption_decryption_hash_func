{
 "cells": [
  {
   "cell_type": "markdown",
   "metadata": {},
   "source": [
    "# Cyber Security"
   ]
  },
  {
   "cell_type": "markdown",
   "metadata": {},
   "source": [
    "# HASHING FUNCTION:"
   ]
  },
  {
   "cell_type": "code",
   "execution_count": 18,
   "metadata": {},
   "outputs": [],
   "source": [
    "import random \n",
    "import string\n",
    "import numpy as np\n",
    "random.seed(20)\n",
    "i=random.randint(0,30)"
   ]
  },
  {
   "cell_type": "markdown",
   "metadata": {},
   "source": [
    "### Alphabet letters maps"
   ]
  },
  {
   "cell_type": "code",
   "execution_count": 2,
   "metadata": {},
   "outputs": [],
   "source": [
    "alphabet ={'a':1*i,'b':2*i,'c':3*i,'d':4*i,'e':5*i,'f':6*i,'g':24*i,'h':7*i,'i':8*i,'j':9*i,'k':10*i,'l':11*i,'m':12*i,'n':13*i,'o':14*i,'p':25*i,'q':15*i,'r':16*i,'s':17*i,\\\n",
    "       't':18*i,'u':19*i,'v':20*i,'w':21*i,'x':22*i,'y':23*i,'z':26*i,' ':30*i,'.':28*i,':':29*i}"
   ]
  },
  {
   "cell_type": "markdown",
   "metadata": {},
   "source": [
    "### Message"
   ]
  },
  {
   "cell_type": "code",
   "execution_count": 15,
   "metadata": {},
   "outputs": [
    {
     "name": "stdout",
     "output_type": "stream",
     "text": [
      "Enter your message : what is your name?\n"
     ]
    }
   ],
   "source": [
    "word = input(\"Enter your message : \")"
   ]
  },
  {
   "cell_type": "markdown",
   "metadata": {},
   "source": [
    "### Encode to integer"
   ]
  },
  {
   "cell_type": "code",
   "execution_count": 19,
   "metadata": {},
   "outputs": [
    {
     "data": {
      "text/plain": [
       "array([588, 196,  28, 504, 840, 224, 476, 840, 644, 392, 532, 448, 840,\n",
       "       364,  28, 336, 140])"
      ]
     },
     "execution_count": 19,
     "metadata": {},
     "output_type": "execute_result"
    }
   ],
   "source": [
    "alph_value=[]\n",
    "for i in word:\n",
    "    if i not in string.punctuation:\n",
    "        alph_value.append(int(alphabet[i]))\n",
    "        alph_value\n",
    "        \n",
    "np.array(alph_value)"
   ]
  },
  {
   "cell_type": "markdown",
   "metadata": {},
   "source": [
    "### Encode from Integer to Hexadecimal encoding"
   ]
  },
  {
   "cell_type": "code",
   "execution_count": 20,
   "metadata": {},
   "outputs": [],
   "source": [
    "def int2hex (num) :\n",
    "\n",
    "    original_value = num    # Original value from user saved for later use\n",
    "    num = abs(num)        # making sure the input is positive\n",
    "\n",
    "    list_ = {'0': '0', '1': '1', '2':'2' , '3':'3', '4': '4', '5':'5', '6':'6', '7':'7' \\\n",
    "                     ,'8':'8','9':'9','10': 'A', '11':'B' , '12': 'C', '13': 'D', '14': 'E', '15': 'F'}\n",
    "    resultSet = []    # empty list to append result\n",
    "\n",
    "    while True :      # creating an infinite loop\n",
    "\n",
    "        remainder = num % 16 \n",
    "        num = int(num/16)   # diving the num in order to reduce it value by 16 for next iteration\n",
    "\n",
    "        if (remainder > 9) and (remainder < 16) and num!=0 : \n",
    "            result = str(remainder)     #  converting result to string \n",
    "            result = list_[result]      #  we mapped the string value of result to a value in the dictionary\n",
    "            resultSet.append(result)    #   saving the result in another list called resultSet\n",
    "\n",
    "        elif (remainder >= 0) and (remainder < 10) and num!= 0:\n",
    "            result = str(remainder)\n",
    "            resultSet.append(result)\n",
    "\n",
    "        else :\n",
    "            result = str(remainder) \n",
    "            result = list_[result] \n",
    "            resultSet.append(result)\n",
    "            break        # saving all the values into resultSet,\n",
    "                        #  we finally break out of the infinite loop\n",
    "    a = ''\n",
    "    m = len(resultSet)   # counting each element in the resultSet\n",
    "    for i in resultSet : # we loop through resultSet list \n",
    "        a = i + a        # and concatinating each value one after the other.\n",
    "    if original_value > 0 :   \n",
    "        \n",
    "        return a # if original value from the user is negative, we introduce (-)\n"
   ]
  },
  {
   "cell_type": "code",
   "execution_count": 21,
   "metadata": {},
   "outputs": [
    {
     "name": "stdout",
     "output_type": "stream",
     "text": [
      " 24CC41C1F8348E01DC3482841882141C034816C1C1508C\n"
     ]
    }
   ],
   "source": [
    "concat = \" \"       \n",
    "for number in alph_value:      \n",
    "    concat = concat + str(int2hex(number))# we call the function\n",
    "print(concat)\n"
   ]
  },
  {
   "cell_type": "markdown",
   "metadata": {},
   "source": [
    "# 2) SYMETRIC ENCRIPTION ALGORITHM"
   ]
  },
  {
   "cell_type": "markdown",
   "metadata": {},
   "source": [
    "# ENCRYPTION CODE"
   ]
  },
  {
   "cell_type": "code",
   "execution_count": 6,
   "metadata": {},
   "outputs": [
    {
     "name": "stdout",
     "output_type": "stream",
     "text": [
      "Enter your message :what is the use of what we have here\n",
      "what is the use of what we have here\n",
      "\n",
      "Choose level of encription (integer value) : \n",
      "encription key : 2\n",
      "\n",
      "encripted message :  yjcvkuvjgwugqhyjcvygjcxgjgtg\n"
     ]
    }
   ],
   "source": [
    "# This program allows us to encrypt our message by doing a letter shifting in the alphabet\n",
    "# using a key to encript the message                                                       \n",
    "# this key allows how to picked different level of encription for the message\n",
    "#-----------------------------------------------------------------------------------------\n",
    "\n",
    "message = input(\"Enter your message :\").lower()\n",
    "print(message)\n",
    "print('')\n",
    "print('Choose level of encription (integer value) : ')\n",
    "key = int (input('encription key : '))\n",
    "dictionary ={}\n",
    "for i in range (26):\n",
    "    alphabet_num = (i+key)%26\n",
    "    \n",
    "\n",
    "    Random_alphabet =chr(alphabet_num +ord('a'))\n",
    "    alphabet = chr(i+ord('a'))\n",
    "    dictionary[alphabet] = Random_alphabet\n",
    "    \n",
    "# Now we have a dictionary that each letter matches its true coded value\n",
    "result=\"\"\n",
    "k= 0\n",
    "space = []\n",
    "for alphabet in message: \n",
    "    k = k+1\n",
    "    if alphabet == ' ': # this condition enable us to remove space from the sentence \n",
    "        space.append(k-1)\n",
    "        continue\n",
    "    result= result + dictionary[alphabet]\n",
    "print('')\n",
    "print ('encripted message : ' ,result)"
   ]
  },
  {
   "cell_type": "markdown",
   "metadata": {},
   "source": [
    "# DECRYPTION CODE"
   ]
  },
  {
   "cell_type": "code",
   "execution_count": 7,
   "metadata": {},
   "outputs": [
    {
     "name": "stdout",
     "output_type": "stream",
     "text": [
      "Enter your message :yjcvkuvjgwugqhyjcvygjcxgjgtg\n",
      "yjcvkuvjgwugqhyjcvygjcxgjgtg\n",
      "\n",
      "Choose level of decription (integer value) : \n",
      "decription key : 2\n",
      "\n",
      "decripted message :  what is the use of what we have here\n"
     ]
    }
   ],
   "source": [
    "# this program enable us to decript encripted message\n",
    "# Using the security key to decript the message\n",
    "#----------------------------------------------------------------------------------------\n",
    "\n",
    "message= input(\"Enter your message :\").lower()\n",
    "print(message)\n",
    "print('')\n",
    "print('Choose level of decription (integer value) : ')\n",
    "key=int (input('decription key : '))\n",
    "\n",
    "dictionary={}\n",
    "for i in range (26):\n",
    "    alphabel_num = (i-key)%26\n",
    "    # we reverse the process of aphabet shifting to its original state\n",
    "    Random_alphabet=chr(alphabel_num +ord('a'))\n",
    "    alphabet=chr(i+ord('a'))\n",
    "    dictionary[alphabet] = Random_alphabet \n",
    "\n",
    "result=\"\"\n",
    "for alphabet in message: \n",
    "    result= result + dictionary[alphabet]\n",
    "    \n",
    "# this allows us to put space where necessary in the concatinated string.\n",
    "formater = len(space)\n",
    "for i in range(formater):\n",
    "    result = result[:space[i]] + ' ' + result[space[i]:] \n",
    "print('')\n",
    "print ('decripted message : ' ,result)"
   ]
  },
  {
   "cell_type": "code",
   "execution_count": null,
   "metadata": {
    "collapsed": true
   },
   "outputs": [],
   "source": []
  }
 ],
 "metadata": {
  "kernelspec": {
   "display_name": "Python 3",
   "language": "python",
   "name": "python3"
  },
  "language_info": {
   "codemirror_mode": {
    "name": "ipython",
    "version": 3
   },
   "file_extension": ".py",
   "mimetype": "text/x-python",
   "name": "python",
   "nbconvert_exporter": "python",
   "pygments_lexer": "ipython3",
   "version": "3.7.6"
  }
 },
 "nbformat": 4,
 "nbformat_minor": 2
}
